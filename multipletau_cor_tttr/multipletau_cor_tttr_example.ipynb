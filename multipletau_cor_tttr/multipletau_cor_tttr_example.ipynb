{
 "cells": [
  {
   "cell_type": "code",
   "execution_count": 9,
   "metadata": {},
   "outputs": [],
   "source": [
    "from __future__ import division\n",
    "import ctypes\n",
    "import numpy as np\n",
    "import warnings\n",
    "import os\n",
    "import time"
   ]
  },
  {
   "cell_type": "code",
   "execution_count": 2,
   "metadata": {},
   "outputs": [],
   "source": [
    "# load shared library\n",
    "_CCF = ctypes.CDLL('CCF.so')"
   ]
  },
  {
   "cell_type": "code",
   "execution_count": 3,
   "metadata": {},
   "outputs": [],
   "source": [
    "def _CCF_inC(t1, t2, nc, nb, timeaxis):\n",
    "    \"\"\"\n",
    "    Wrapper function to communicate between python and C using ctypes library.\n",
    "    The returned array yields the correlation of intensity fluctuations, decaying to zero.\n",
    "\n",
    "    Parameters:\n",
    "\n",
    "    * t1: Numpy arrays of photon arrival times in channel 1 (integer type)\n",
    "    * t2: Numpy arrays of photon arrival times in channel 2 (integer type)\n",
    "    * nc: Number of time points per logarithmic step\n",
    "    * nb: Number of logarithmic steps\n",
    "    * timeaxis: Logarithmic timeaxis as defined by nc and nb\n",
    "\n",
    "    Return:\n",
    "\n",
    "    * corr_res: 1d array of correlation result\n",
    "\n",
    "    \"\"\"\n",
    "    global _CCF\n",
    "    # read out number of photons and max time\n",
    "    np1 = np.size(t1)\n",
    "    np2 = np.size(t2)\n",
    "    maxT = np.max([t1[-1], t2[-1]])\n",
    "\n",
    "    # convert numpy arrays to python lists so they can be converted to ctypes\n",
    "    w1 = np.ones(np1).tolist()\n",
    "    w2 = np.ones(np2).tolist()\n",
    "    t1 = t1.tolist()\n",
    "    t2 = t2.tolist()\n",
    "    timeaxis = timeaxis.tolist()\n",
    "\n",
    "    # initialize output\n",
    "    zer = np.zeros(len(timeaxis)).tolist()\n",
    "    corrl = (ctypes.c_double * len(timeaxis))(*zer)\n",
    "\n",
    "    # call C function with converted data types\n",
    "    _CCF.CCF((ctypes.c_int64 * np1)(*t1), (ctypes.c_int64 * np2)(*t2),\n",
    "             (ctypes.c_double * np1)(*w1), (ctypes.c_double * np2)(*w2),\n",
    "             ctypes.c_int(nc), ctypes.c_int(nb),\n",
    "             ctypes.c_int(np1), ctypes.c_int(np2),\n",
    "             (ctypes.c_int * len(timeaxis))(*timeaxis), ctypes.byref(corrl))\n",
    "\n",
    "    # convert output back to numpy array\n",
    "    corrl = np.array(corrl)\n",
    "\n",
    "    # perform normalizing\n",
    "    divisor = np.ones(np.size(timeaxis), dtype='int')\n",
    "    divisor[(2 * nc + 1):] = 2 ** (np.floor((np.arange(nc, (np.size(divisor) + 1) - (nc + 2))) / nc))\n",
    "    corr_res = corrl / divisor / (maxT - timeaxis) / (np1 / t1[-1]) / (np2 / t2[-1]) - 1\n",
    "\n",
    "    return corr_res\n",
    "\n",
    "\n",
    "def CCF(t1, t2, nblock=10, nc=10, nb='auto'):\n",
    "    \"\"\"\n",
    "    Performs crosscorrelation of time-tagged photon data t1 and t2 using semi-logarithmic timeaxis\n",
    "    with nb logarithmic levels and nc equally spaced timebins per level.\n",
    "    Error estimation is performed by splitting the measurement into nblock time segments of equal length and\n",
    "    taking the standard error of mean.\n",
    "    The returned array yields the correlation of intensity fluctuations, decaying to zero.\n",
    "\n",
    "    Parameters:\n",
    "\n",
    "    * t1: Numpy arrays of photon arrival times in channel 1 (integer type)\n",
    "    * t2: Numpy arrays of photon arrival times in channel 2 (integer type)\n",
    "    * nblock: Number of blocks used for error estimation. (Default: 10)\n",
    "    * nc: Number of time points per logarithmic level. (Default: 10)\n",
    "    * nb: Number of logarithmic levels. 'auto' takes the maximum possible lagtime to calculate nb.\n",
    "\n",
    "    Return:\n",
    "\n",
    "    * mcorr: 1d array of correlation result\n",
    "    * stdcorr: Standard error of mean of correlation result\n",
    "    * timeaxis: Timeaxis\n",
    "\n",
    "    \"\"\"\n",
    "\n",
    "    # Check inputs and convert if feasible\n",
    "    if not isinstance(t1, np.ndarray):\n",
    "        t1 = np.array(t1)\n",
    "        warnings.warn(\"Input array 1 is not a numpy array, converting...\")\n",
    "    if not isinstance(t2, np.ndarray):\n",
    "        t2 = np.array(t2)\n",
    "        warnings.warn(\"Input array 2 is not a numpy array, converting...\")\n",
    "    if t1.dtype.kind not in ['i', 'u']:\n",
    "        t1 = t1.astype(int)\n",
    "        warnings.warn(\"Input array 1 is not of integer type, converting...\")\n",
    "    if t2.dtype.kind not in ['i', 'u']:\n",
    "        t2 = t2.astype(int)\n",
    "        warnings.warn(\"Input array 2 is not of integer type, converting...\")\n",
    "\n",
    "    # define blocks\n",
    "    maxT = np.max([t1[-1], t2[-1]])\n",
    "    blocks = np.linspace(0, np.max([t1[-1], t2[-1]]), nblock + 1).astype(int)\n",
    "\n",
    "    # preprocess timeaxis\n",
    "    block_time = np.floor(maxT / nblock)\n",
    "    if nb is 'auto':\n",
    "        timeaxis_exponent = np.floor(np.log2(block_time / nc)).astype(int)\n",
    "        nb = timeaxis_exponent.astype(int)\n",
    "    else:\n",
    "        timeaxis_exponent = nb\n",
    "    timeaxis = np.ones(nc * (timeaxis_exponent + 1))\n",
    "    timeaxis *= 2 ** np.floor((np.arange(np.size(timeaxis))) / nc - 1)\n",
    "    timeaxis[timeaxis < 1] = 1\n",
    "    timeaxis = np.concatenate([np.array([1]), timeaxis])\n",
    "    timeaxis = np.cumsum(timeaxis).astype(int)\n",
    "\n",
    "    corr = np.zeros((nblock, np.size(timeaxis)))\n",
    "    for i in range(nblock):\n",
    "        corr[i, :] = _CCF_inC(t1[(t1 > blocks[i]) & (t1 <= blocks[i + 1])] - blocks[i],\n",
    "                              t2[(t2 > blocks[i]) & (t2 <= blocks[i + 1])] - blocks[i],\n",
    "                              nc, nb, timeaxis)\n",
    "        # replace -1 occurrences with 0 for time lags that are not realized\n",
    "        corr[i, (np.size(timeaxis) - np.where(corr[i][::-1] != -1)[0][0]):] = 0\n",
    "    # remove zeros at end\n",
    "    valid = np.sum((corr != 0).all(axis=0))\n",
    "    corr = corr[:, :valid]\n",
    "    timeaxis = timeaxis[:valid]\n",
    "\n",
    "    # average and standard deviation\n",
    "    mcorr = np.mean(corr, axis=0)\n",
    "    # calculate std on normalized curves!\n",
    "    corr_norm = np.zeros((nblock, np.size(timeaxis)))\n",
    "    area = np.sum(corr, axis=1)\n",
    "    for i in range(np.size(corr, axis=0)):\n",
    "        corr_norm[i, :] = np.mean(area) * corr[i, :] / area[i]\n",
    "    stdcorr = np.std(corr_norm, axis=0) / np.sqrt(nblock)\n",
    "\n",
    "    # first time bin is actually time lag zero, correct for this:\n",
    "    timeaxis[21:] -= 1\n",
    "\n",
    "    return mcorr, stdcorr, timeaxis\n"
   ]
  },
  {
   "cell_type": "code",
   "execution_count": 5,
   "metadata": {},
   "outputs": [],
   "source": [
    "# load data\n",
    "t = np.load('sample/sample_data.npy')\n",
    "syncrate = 27027027.027  # normally provided by photon file"
   ]
  },
  {
   "cell_type": "code",
   "execution_count": 6,
   "metadata": {},
   "outputs": [
    {
     "data": {
      "text/plain": [
       "array([      119,       149,       181, ..., 683715097, 683715849,\n",
       "       683716067])"
      ]
     },
     "execution_count": 6,
     "metadata": {},
     "output_type": "execute_result"
    }
   ],
   "source": [
    "t"
   ]
  },
  {
   "cell_type": "code",
   "execution_count": 10,
   "metadata": {},
   "outputs": [
    {
     "name": "stdout",
     "output_type": "stream",
     "text": [
      "Autocorrelated 729088 photons in 0.8014168739318848 s.\n"
     ]
    }
   ],
   "source": [
    "# correlate and time\n",
    "start = time.time()\n",
    "corr, error, timeaxis = CCF(t, t)\n",
    "stop = time.time()\n",
    "print(\"Autocorrelated \" + str(len(t)) + \" photons in \" + str(stop-start) + \" s.\")"
   ]
  },
  {
   "cell_type": "code",
   "execution_count": 12,
   "metadata": {},
   "outputs": [
    {
     "data": {
      "image/png": "[encoded data removed]",
      "text/plain": [
       "<Figure size 432x288 with 1 Axes>"
      ]
     },
     "metadata": {
      "needs_background": "light"
     },
     "output_type": "display_data"
    }
   ],
   "source": [
    "# plot\n",
    "plt.errorbar(timeaxis/syncrate, corr, error)\n",
    "plt.xscale('log')\n",
    "plt.xlabel('Timelag t (s)')\n",
    "plt.ylabel('G(t)')\n",
    "plt.xlim((1e-6, 1))\n",
    "plt.ylim((np.min(corr-error), np.max(corr+error)))\n",
    "plt.axvline(5E-4, linestyle='-', color='red')\n",
    "plt.text(0.6E-3, 4, r\"$\\tau_{D}$ = 500 ms\")\n",
    "plt.show()"
   ]
  },
  {
   "cell_type": "code",
   "execution_count": null,
   "metadata": {},
   "outputs": [],
   "source": []
  }
 ],
 "metadata": {
  "kernelspec": {
   "display_name": "Python 3",
   "language": "python",
   "name": "python3"
  },
  "language_info": {
   "codemirror_mode": {
    "name": "ipython",
    "version": 3
   },
   "file_extension": ".py",
   "mimetype": "text/x-python",
   "name": "python",
   "nbconvert_exporter": "python",
   "pygments_lexer": "ipython3",
   "version": "3.7.4"
  }
 },
 "nbformat": 4,
 "nbformat_minor": 2
}
